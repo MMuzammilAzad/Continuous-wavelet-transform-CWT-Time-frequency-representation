{
 "cells": [
  {
   "cell_type": "code",
   "execution_count": 2,
   "id": "55a0c4d9-2689-4815-86c0-9d8d54fd61d4",
   "metadata": {},
   "outputs": [],
   "source": [
    "import matplotlib.pyplot as plt\n",
    "\n",
    "from librosa.display import specshow\n",
    "# import librosa\n",
    "\n",
    "from scipy.io import wavfile\n",
    "import numpy as np\n",
    "import pandas as pd\n",
    "import scipy as sp\n",
    "from ssqueezepy import cwt\n",
    "from ssqueezepy.visuals import plot, imshow\n",
    "%matplotlib inline"
   ]
  },
  {
   "cell_type": "code",
   "execution_count": null,
   "id": "3d8cad13-fcaf-4502-85ea-52a089ff303a",
   "metadata": {
    "tags": []
   },
   "outputs": [
    {
     "name": "stderr",
     "output_type": "stream",
     "text": [
      "C:\\Users\\user\\AppData\\Local\\Temp\\ipykernel_31824\\4165572001.py:6: RuntimeWarning: More than 20 figures have been opened. Figures created through the pyplot interface (`matplotlib.pyplot.figure`) are retained until explicitly closed and may consume too much memory. (To control this warning, see the rcParam `figure.max_open_warning`).\n",
      "  plt.figure(figsize=(5,5), dpi = 60)\n"
     ]
    }
   ],
   "source": [
    "j = 0\n",
    "for i in range(1000):\n",
    "    y = np.loadtxt(r'C:\\Users\\user\\Desktop\\2-Emperical Model Decomposition\\Signal to scalogram\\H_complete.csv', skiprows=1)\n",
    "    y = y[j:j+1875]\n",
    "    Wx1, scales1 = cwt(y, wavelet='morlet', scales='log-piecewise', nv=None, fs=2500)\n",
    "    plt.figure(figsize=(5,5), dpi = 60)\n",
    "    plt.axis('off')\n",
    "    plt.imshow(abs(Wx1), aspect='auto', interpolation='bilinear', cmap='jet')\n",
    "    j = j + 1875\n",
    "    i += 1\n",
    "    name = r'C:\\Users\\user\\Desktop\\2-Emperical Model Decomposition\\Signal to scalogram\\H\\{}.png'.format(i)\n",
    "    plt.savefig(name, bbox_inches='tight', pad_inches=0)"
   ]
  },
  {
   "cell_type": "code",
   "execution_count": null,
   "id": "67f77a50",
   "metadata": {},
   "outputs": [],
   "source": []
  }
 ],
 "metadata": {
  "kernelspec": {
   "display_name": "Python 3 (ipykernel)",
   "language": "python",
   "name": "python3"
  },
  "language_info": {
   "codemirror_mode": {
    "name": "ipython",
    "version": 3
   },
   "file_extension": ".py",
   "mimetype": "text/x-python",
   "name": "python",
   "nbconvert_exporter": "python",
   "pygments_lexer": "ipython3",
   "version": "3.9.12"
  }
 },
 "nbformat": 4,
 "nbformat_minor": 5
}
